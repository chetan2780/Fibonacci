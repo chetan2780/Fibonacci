{
 "cells": [
  {
   "cell_type": "code",
   "execution_count": 2,
   "id": "5071df3a",
   "metadata": {},
   "outputs": [
    {
     "name": "stdout",
     "output_type": "stream",
     "text": [
      "Till what number would you like to see the fibonacci sequence: 10\n",
      "1 1 2 3 5 8 "
     ]
    }
   ],
   "source": [
    "a = 0\n",
    "b = 1\n",
    "f = 1\n",
    "n = int(input(\"Till what number would you like to see the fibonacci sequence: \"))\n",
    "while b <= n:\n",
    "    f = a+b\n",
    "    a = b\n",
    "    b = f\n",
    "    print(a,end = \" \")"
   ]
  },
  {
   "cell_type": "code",
   "execution_count": 3,
   "id": "b1196606",
   "metadata": {},
   "outputs": [
    {
     "name": "stdout",
     "output_type": "stream",
     "text": [
      "1 1 2 3 5 8 13 "
     ]
    }
   ],
   "source": [
    "def fibonacci(n):\n",
    "    a = 0\n",
    "    b = 1\n",
    "    f = 1\n",
    "    while b <= n:\n",
    "        f = a+b\n",
    "        a = b\n",
    "        b = f\n",
    "        print(a,end = \" \")\n",
    "        \n",
    "fibonacci(15)"
   ]
  },
  {
   "cell_type": "code",
   "execution_count": 4,
   "id": "01520ff7",
   "metadata": {},
   "outputs": [
    {
     "name": "stdout",
     "output_type": "stream",
     "text": [
      "1 1 2 3 5 8 13 21 34 "
     ]
    }
   ],
   "source": [
    "#program to print fibonacci series by passing parameter. \n",
    "def fibonacci(n):\n",
    "    a = 0\n",
    "    b = 1\n",
    "    f = 1\n",
    "    while b <= n:\n",
    "        f = a+b\n",
    "        a = b\n",
    "        b = f\n",
    "        print(a,end = \" \")\n",
    "        \n",
    "fibonacci(35)"
   ]
  },
  {
   "cell_type": "code",
   "execution_count": 6,
   "id": "fc561f32",
   "metadata": {},
   "outputs": [
    {
     "name": "stdout",
     "output_type": "stream",
     "text": [
      "Fibonacci Series:  0 1 1 2 3 5 8 13 21 34 "
     ]
    }
   ],
   "source": [
    "#Python program to generate Fibonacci series for 'n' value\n",
    "def fibonacci_series(n):\n",
    "    a = 0\n",
    "    b = 1\n",
    "    sum = 0\n",
    "    count = 1\n",
    "    print(\"Fibonacci Series: \", end = \" \")\n",
    "    while(count <= n):\n",
    "        print(sum, end = \" \")\n",
    "        count += 1\n",
    "        a = b\n",
    "        b = sum\n",
    "        sum = a + b\n",
    "        \n",
    "fibonacci_series(10)"
   ]
  },
  {
   "cell_type": "code",
   "execution_count": null,
   "id": "f58e6816",
   "metadata": {},
   "outputs": [],
   "source": []
  }
 ],
 "metadata": {
  "kernelspec": {
   "display_name": "Python 3",
   "language": "python",
   "name": "python3"
  },
  "language_info": {
   "codemirror_mode": {
    "name": "ipython",
    "version": 3
   },
   "file_extension": ".py",
   "mimetype": "text/x-python",
   "name": "python",
   "nbconvert_exporter": "python",
   "pygments_lexer": "ipython3",
   "version": "3.8.8"
  }
 },
 "nbformat": 4,
 "nbformat_minor": 5
}
